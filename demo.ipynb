{
 "cells": [
  {
   "cell_type": "code",
   "execution_count": null,
   "metadata": {},
   "outputs": [],
   "source": [
    "import numpy as np\n",
    "import xarray as xr\n",
    "import matplotlib.pyplot as plt\n",
    "import cartopy.crs as ccrs\n",
    "import geoviews as gv\n",
    "import panel as pn\n",
    "import hvplot.xarray"
   ]
  },
  {
   "cell_type": "code",
   "execution_count": null,
   "metadata": {},
   "outputs": [],
   "source": [
    "gv.extension(\"bokeh\")"
   ]
  },
  {
   "cell_type": "markdown",
   "metadata": {},
   "source": [
    "## Generate some sample data to play with"
   ]
  },
  {
   "cell_type": "code",
   "execution_count": null,
   "metadata": {},
   "outputs": [],
   "source": [
    "lon = np.arange(-180, 180, 2)\n",
    "lat = np.arange(-80, 80, 2)\n",
    "lonG, latG = np.meshgrid(lon, lat)\n",
    "lonG, latG"
   ]
  },
  {
   "cell_type": "code",
   "execution_count": null,
   "metadata": {},
   "outputs": [],
   "source": [
    "phase = np.arange(-np.pi, np.pi + np.pi/10, np.pi/10)\n",
    "phase"
   ]
  },
  {
   "cell_type": "code",
   "execution_count": null,
   "metadata": {},
   "outputs": [],
   "source": [
    "def cosinewave(x, phase=0, scale=360):\n",
    "    return np.cos(2*np.pi*x/scale + phase)\n",
    "\n",
    "data = np.stack([cosinewave(lonG, ph) for ph in phase])\n",
    "data.shape"
   ]
  },
  {
   "cell_type": "markdown",
   "metadata": {},
   "source": [
    "## Store sample data in xarray Dataset, `ds`"
   ]
  },
  {
   "cell_type": "code",
   "execution_count": null,
   "metadata": {},
   "outputs": [],
   "source": [
    "# ds = xr.Dataset(\n",
    "#     data_vars=dict(data=((\"phase\", \"x\", \"y\"), data)),\n",
    "#     coords=dict(lon=((\"x\", \"y\"), lonG), lat=((\"x\", \"y\"), latG), phase=phase),\n",
    "# )\n",
    "ds = xr.Dataset(\n",
    "    data_vars=dict(data=((\"phase\", \"lat\", \"lon\"), data)),\n",
    "    coords=dict(lon=((\"lon\"), lon), lat=((\"lat\"), lat), phase=phase),\n",
    ")\n",
    "ds"
   ]
  },
  {
   "cell_type": "code",
   "execution_count": null,
   "metadata": {},
   "outputs": [],
   "source": [
    "xr.plot.pcolormesh(ds[\"data\"].isel(phase=10), \"lon\", \"lat\");"
   ]
  },
  {
   "cell_type": "markdown",
   "metadata": {},
   "source": [
    "## Now try some stuff with GeoViews"
   ]
  },
  {
   "cell_type": "code",
   "execution_count": null,
   "metadata": {},
   "outputs": [],
   "source": [
    "gv.Dataset(ds[\"data\"]).to(gv.FilledContours, groupby=\"phase\")"
   ]
  },
  {
   "cell_type": "markdown",
   "metadata": {},
   "source": [
    "<https://geoviews.org/gallery/bokeh/filled_contours.html#bokeh-gallery-filled-contours>"
   ]
  },
  {
   "cell_type": "code",
   "execution_count": null,
   "metadata": {},
   "outputs": [],
   "source": [
    "gv.FilledContours((ds.lon, ds.lat, ds.data[0, ...]))"
   ]
  },
  {
   "cell_type": "markdown",
   "metadata": {},
   "source": [
    "https://holoviews.org/reference/containers/bokeh/DynamicMap.html  \n",
    "http://holoviews.org/reference/containers/bokeh/HoloMap.html  \n",
    "https://panel.holoviz.org/user_guide/Widgets.html  \n",
    "`pn.widgets.DiscreteSlider(name=\"Phase\", options=list(ds.phase.values), value=0)`"
   ]
  },
  {
   "cell_type": "markdown",
   "metadata": {},
   "source": [
    "HoloMap takes longer to generate upfront"
   ]
  },
  {
   "cell_type": "code",
   "execution_count": null,
   "metadata": {},
   "outputs": [],
   "source": [
    "def contours(phase=0):\n",
    "    return gv.FilledContours((ds.lon, ds.lat, ds.sel(phase=phase).data))\n",
    "\n",
    "hmap = gv.HoloMap({ph:contours(ph) for ph in ds.phase.values}, kdims=[\"Phase\"])\n",
    "hmap"
   ]
  },
  {
   "cell_type": "markdown",
   "metadata": {},
   "source": [
    "DynamicMap might be smarter?"
   ]
  },
  {
   "cell_type": "code",
   "execution_count": null,
   "metadata": {},
   "outputs": [],
   "source": [
    "dmap = gv.DynamicMap(\n",
    "    lambda ph: gv.FilledContours((ds.lon, ds.lat, ds.sel(phase=ph).data)).opts(cmap=\"RdBu\"),\n",
    "    kdims=[gv.Dimension(\"phase\", values=ds.phase.values, default=0)]\n",
    ")\n",
    "dmap"
   ]
  },
  {
   "cell_type": "code",
   "execution_count": null,
   "metadata": {},
   "outputs": [],
   "source": [
    "dmap2 = (\n",
    "    dmap\n",
    "    * gv.feature.coastline()\n",
    ").opts(projection=ccrs.Mollweide(), aspect=2)\n",
    "dmap2"
   ]
  },
  {
   "cell_type": "markdown",
   "metadata": {},
   "source": [
    "## Wrap with Panel to make it servable"
   ]
  },
  {
   "cell_type": "code",
   "execution_count": null,
   "metadata": {},
   "outputs": [],
   "source": [
    "pn.Pane(dmap2).servable()"
   ]
  }
 ],
 "metadata": {
  "kernelspec": {
   "display_name": "Python 3",
   "language": "python",
   "name": "python3"
  },
  "language_info": {
   "codemirror_mode": {
    "name": "ipython",
    "version": 3
   },
   "file_extension": ".py",
   "mimetype": "text/x-python",
   "name": "python",
   "nbconvert_exporter": "python",
   "pygments_lexer": "ipython3",
   "version": "3.8.6"
  }
 },
 "nbformat": 4,
 "nbformat_minor": 4
}
